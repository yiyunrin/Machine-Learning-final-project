{
 "cells": [
  {
   "cell_type": "code",
   "execution_count": 1,
   "id": "93919bce-b1df-404e-add2-351ba32f502b",
   "metadata": {},
   "outputs": [],
   "source": [
    "import os\n",
    "import numpy as np\n",
    "import tensorflow as tf\n",
    "from tensorflow import keras\n",
    "from tensorflow.keras.preprocessing.image import ImageDataGenerator\n",
    "import tensorflow as tf\n",
    "from tensorflow.keras import layers, models"
   ]
  },
  {
   "cell_type": "code",
   "execution_count": 2,
   "id": "e2132c93-4324-4205-9262-9607f3eff9f8",
   "metadata": {},
   "outputs": [
    {
     "name": "stdout",
     "output_type": "stream",
     "text": [
      "Found 2105 images belonging to 46 classes.\n",
      "Found 484 images belonging to 46 classes.\n"
     ]
    }
   ],
   "source": [
    "# 設定資料路徑\n",
    "data_dir = './dataset_with_detect/train'\n",
    "val_dir = './dataset_with_detect/val'\n",
    "\n",
    "# 設定圖像尺寸\n",
    "img_width, img_height = 28, 28\n",
    "\n",
    "# 建立訓練和驗證資料產生器\n",
    "train_datagen = ImageDataGenerator(rescale=1./255)\n",
    "val_datagen = ImageDataGenerator(rescale=1./255)\n",
    "\n",
    "# 從資料夾載入訓練和驗證資料\n",
    "train_generator = train_datagen.flow_from_directory(\n",
    "    data_dir,\n",
    "    target_size=(img_width, img_height),\n",
    "    color_mode='grayscale',\n",
    "    class_mode='categorical',\n",
    "    classes=[str(i) for i in range(0, 46)],\n",
    "    shuffle=True\n",
    ")\n",
    "\n",
    "val_generator = val_datagen.flow_from_directory(\n",
    "    val_dir,\n",
    "    target_size=(img_width, img_height),\n",
    "    color_mode='grayscale',\n",
    "    class_mode='categorical',\n",
    "    classes=[str(i) for i in range(0, 46)],\n",
    "    shuffle=False)"
   ]
  },
  {
   "cell_type": "code",
   "execution_count": 3,
   "id": "ff63d426-6a5f-42ea-a9a4-0ce9216726ec",
   "metadata": {},
   "outputs": [
    {
     "name": "stdout",
     "output_type": "stream",
     "text": [
      "{'0': 0, '1': 1, '2': 2, '3': 3, '4': 4, '5': 5, '6': 6, '7': 7, '8': 8, '9': 9, '10': 10, '11': 11, '12': 12, '13': 13, '14': 14, '15': 15, '16': 16, '17': 17, '18': 18, '19': 19, '20': 20, '21': 21, '22': 22, '23': 23, '24': 24, '25': 25, '26': 26, '27': 27, '28': 28, '29': 29, '30': 30, '31': 31, '32': 32, '33': 33, '34': 34, '35': 35, '36': 36, '37': 37, '38': 38, '39': 39, '40': 40, '41': 41, '42': 42, '43': 43, '44': 44, '45': 45}\n",
      "{'0': 0, '1': 1, '2': 2, '3': 3, '4': 4, '5': 5, '6': 6, '7': 7, '8': 8, '9': 9, '10': 10, '11': 11, '12': 12, '13': 13, '14': 14, '15': 15, '16': 16, '17': 17, '18': 18, '19': 19, '20': 20, '21': 21, '22': 22, '23': 23, '24': 24, '25': 25, '26': 26, '27': 27, '28': 28, '29': 29, '30': 30, '31': 31, '32': 32, '33': 33, '34': 34, '35': 35, '36': 36, '37': 37, '38': 38, '39': 39, '40': 40, '41': 41, '42': 42, '43': 43, '44': 44, '45': 45}\n"
     ]
    }
   ],
   "source": [
    "print(train_generator.class_indices)\n",
    "print(val_generator.class_indices)"
   ]
  },
  {
   "cell_type": "code",
   "execution_count": 4,
   "id": "ca5907c4-cfba-4e39-824d-a7afaa34c3ff",
   "metadata": {},
   "outputs": [
    {
     "name": "stdout",
     "output_type": "stream",
     "text": [
      "Model: \"sequential\"\n",
      "_________________________________________________________________\n",
      " Layer (type)                Output Shape              Param #   \n",
      "=================================================================\n",
      " conv2d (Conv2D)             (None, 28, 28, 32)        320       \n",
      "                                                                 \n",
      " batch_normalization (BatchN  (None, 28, 28, 32)       128       \n",
      " ormalization)                                                   \n",
      "                                                                 \n",
      " conv2d_1 (Conv2D)           (None, 28, 28, 32)        9248      \n",
      "                                                                 \n",
      " batch_normalization_1 (Batc  (None, 28, 28, 32)       128       \n",
      " hNormalization)                                                 \n",
      "                                                                 \n",
      " max_pooling2d (MaxPooling2D  (None, 14, 14, 32)       0         \n",
      " )                                                               \n",
      "                                                                 \n",
      " dropout (Dropout)           (None, 14, 14, 32)        0         \n",
      "                                                                 \n",
      " conv2d_2 (Conv2D)           (None, 14, 14, 64)        18496     \n",
      "                                                                 \n",
      " batch_normalization_2 (Batc  (None, 14, 14, 64)       256       \n",
      " hNormalization)                                                 \n",
      "                                                                 \n",
      " conv2d_3 (Conv2D)           (None, 14, 14, 64)        36928     \n",
      "                                                                 \n",
      " batch_normalization_3 (Batc  (None, 14, 14, 64)       256       \n",
      " hNormalization)                                                 \n",
      "                                                                 \n",
      " max_pooling2d_1 (MaxPooling  (None, 7, 7, 64)         0         \n",
      " 2D)                                                             \n",
      "                                                                 \n",
      " dropout_1 (Dropout)         (None, 7, 7, 64)          0         \n",
      "                                                                 \n",
      " conv2d_4 (Conv2D)           (None, 7, 7, 128)         73856     \n",
      "                                                                 \n",
      " batch_normalization_4 (Batc  (None, 7, 7, 128)        512       \n",
      " hNormalization)                                                 \n",
      "                                                                 \n",
      " conv2d_5 (Conv2D)           (None, 7, 7, 128)         147584    \n",
      "                                                                 \n",
      " batch_normalization_5 (Batc  (None, 7, 7, 128)        512       \n",
      " hNormalization)                                                 \n",
      "                                                                 \n",
      " max_pooling2d_2 (MaxPooling  (None, 3, 3, 128)        0         \n",
      " 2D)                                                             \n",
      "                                                                 \n",
      " dropout_2 (Dropout)         (None, 3, 3, 128)         0         \n",
      "                                                                 \n",
      " flatten (Flatten)           (None, 1152)              0         \n",
      "                                                                 \n",
      " dense (Dense)               (None, 512)               590336    \n",
      "                                                                 \n",
      " dropout_3 (Dropout)         (None, 512)               0         \n",
      "                                                                 \n",
      " dense_1 (Dense)             (None, 256)               131328    \n",
      "                                                                 \n",
      " dropout_4 (Dropout)         (None, 256)               0         \n",
      "                                                                 \n",
      " dense_2 (Dense)             (None, 46)                11822     \n",
      "                                                                 \n",
      "=================================================================\n",
      "Total params: 1,021,710\n",
      "Trainable params: 1,020,814\n",
      "Non-trainable params: 896\n",
      "_________________________________________________________________\n"
     ]
    }
   ],
   "source": [
    "# 建立CNN模型\n",
    "model = models.Sequential([\n",
    "    layers.Input(shape=(img_width, img_height, 1)),\n",
    "    \n",
    "    layers.Conv2D(32, (3, 3), activation='relu', padding='same'),\n",
    "    layers.BatchNormalization(),\n",
    "    layers.Conv2D(32, (3, 3), activation='relu', padding='same'),\n",
    "    layers.BatchNormalization(),\n",
    "    layers.MaxPooling2D((2, 2)),\n",
    "    layers.Dropout(0.25),\n",
    "\n",
    "    layers.Conv2D(64, (3, 3), activation='relu', padding='same'),\n",
    "    layers.BatchNormalization(),\n",
    "    layers.Conv2D(64, (3, 3), activation='relu', padding='same'),\n",
    "    layers.BatchNormalization(),\n",
    "    layers.MaxPooling2D((2, 2)),\n",
    "    layers.Dropout(0.25),\n",
    "\n",
    "    layers.Conv2D(128, (3, 3), activation='relu', padding='same'),\n",
    "    layers.BatchNormalization(),\n",
    "    layers.Conv2D(128, (3, 3), activation='relu', padding='same'),\n",
    "    layers.BatchNormalization(),\n",
    "    layers.MaxPooling2D((2, 2)),\n",
    "    layers.Dropout(0.25),\n",
    "\n",
    "    layers.Flatten(),\n",
    "    \n",
    "    layers.Dense(512, activation='relu'),\n",
    "    layers.Dropout(0.5),\n",
    "    \n",
    "    layers.Dense(256, activation='relu'),\n",
    "    layers.Dropout(0.5),\n",
    "    \n",
    "    layers.Dense(train_generator.num_classes, activation='softmax')\n",
    "])\n",
    "\n",
    "# 輸出層\n",
    "# 編譯模型\n",
    "model.compile(optimizer='adam',\n",
    "              loss='categorical_crossentropy',\n",
    "              metrics=['accuracy'])\n",
    "model.summary()"
   ]
  },
  {
   "cell_type": "code",
   "execution_count": 5,
   "id": "023a967f-ca8d-4ac9-a6df-412fcd30b6f6",
   "metadata": {},
   "outputs": [],
   "source": [
    "callback1 = tf.keras.callbacks.EarlyStopping(\n",
    "    monitor='val_loss',\n",
    "    min_delta=0,\n",
    "    patience=15,\n",
    "    verbose=0,\n",
    "    mode='auto',\n",
    "    baseline=None,\n",
    "    restore_best_weights=True\n",
    ")"
   ]
  },
  {
   "cell_type": "code",
   "execution_count": 6,
   "id": "b7ec74a8-0e19-469a-bf60-b37c52b981ae",
   "metadata": {},
   "outputs": [
    {
     "name": "stdout",
     "output_type": "stream",
     "text": [
      "Epoch 1/999\n",
      "66/66 [==============================] - 28s 245ms/step - loss: 4.2757 - accuracy: 0.0637 - val_loss: 3.8884 - val_accuracy: 0.0248\n",
      "Epoch 2/999\n",
      "66/66 [==============================] - 1s 19ms/step - loss: 2.8738 - accuracy: 0.2385 - val_loss: 4.6871 - val_accuracy: 0.0682\n",
      "Epoch 3/999\n",
      "66/66 [==============================] - 1s 20ms/step - loss: 1.9595 - accuracy: 0.4608 - val_loss: 6.5440 - val_accuracy: 0.0434\n",
      "Epoch 4/999\n",
      "66/66 [==============================] - 1s 19ms/step - loss: 1.2840 - accuracy: 0.6228 - val_loss: 5.3660 - val_accuracy: 0.1116\n",
      "Epoch 5/999\n",
      "66/66 [==============================] - 1s 20ms/step - loss: 0.9004 - accuracy: 0.7178 - val_loss: 3.8412 - val_accuracy: 0.1736\n",
      "Epoch 6/999\n",
      "66/66 [==============================] - 1s 20ms/step - loss: 0.6704 - accuracy: 0.7919 - val_loss: 2.1664 - val_accuracy: 0.4256\n",
      "Epoch 7/999\n",
      "66/66 [==============================] - 1s 20ms/step - loss: 0.5421 - accuracy: 0.8314 - val_loss: 0.6747 - val_accuracy: 0.7934\n",
      "Epoch 8/999\n",
      "66/66 [==============================] - 1s 20ms/step - loss: 0.4114 - accuracy: 0.8675 - val_loss: 0.3429 - val_accuracy: 0.8884\n",
      "Epoch 9/999\n",
      "66/66 [==============================] - 1s 20ms/step - loss: 0.3617 - accuracy: 0.8841 - val_loss: 0.1877 - val_accuracy: 0.9401\n",
      "Epoch 10/999\n",
      "66/66 [==============================] - 1s 20ms/step - loss: 0.2844 - accuracy: 0.9116 - val_loss: 0.1728 - val_accuracy: 0.9463\n",
      "Epoch 11/999\n",
      "66/66 [==============================] - 1s 20ms/step - loss: 0.2400 - accuracy: 0.9245 - val_loss: 0.2109 - val_accuracy: 0.9298\n",
      "Epoch 12/999\n",
      "66/66 [==============================] - 1s 20ms/step - loss: 0.2574 - accuracy: 0.9235 - val_loss: 0.1443 - val_accuracy: 0.9483\n",
      "Epoch 13/999\n",
      "66/66 [==============================] - 1s 20ms/step - loss: 0.1937 - accuracy: 0.9420 - val_loss: 0.1451 - val_accuracy: 0.9545\n",
      "Epoch 14/999\n",
      "66/66 [==============================] - 1s 20ms/step - loss: 0.2195 - accuracy: 0.9325 - val_loss: 0.1600 - val_accuracy: 0.9566\n",
      "Epoch 15/999\n",
      "66/66 [==============================] - 1s 21ms/step - loss: 0.1984 - accuracy: 0.9382 - val_loss: 0.1254 - val_accuracy: 0.9607\n",
      "Epoch 16/999\n",
      "66/66 [==============================] - 1s 20ms/step - loss: 0.1796 - accuracy: 0.9420 - val_loss: 0.1369 - val_accuracy: 0.9628\n",
      "Epoch 17/999\n",
      "66/66 [==============================] - 1s 20ms/step - loss: 0.1551 - accuracy: 0.9515 - val_loss: 0.1763 - val_accuracy: 0.9483\n",
      "Epoch 18/999\n",
      "66/66 [==============================] - 1s 20ms/step - loss: 0.1324 - accuracy: 0.9587 - val_loss: 0.1627 - val_accuracy: 0.9607\n",
      "Epoch 19/999\n",
      "66/66 [==============================] - 1s 20ms/step - loss: 0.1086 - accuracy: 0.9705 - val_loss: 0.2151 - val_accuracy: 0.9504\n",
      "Epoch 20/999\n",
      "66/66 [==============================] - 1s 20ms/step - loss: 0.1181 - accuracy: 0.9653 - val_loss: 0.1207 - val_accuracy: 0.9628\n",
      "Epoch 21/999\n",
      "66/66 [==============================] - 1s 19ms/step - loss: 0.1297 - accuracy: 0.9615 - val_loss: 0.1957 - val_accuracy: 0.9401\n",
      "Epoch 22/999\n",
      "66/66 [==============================] - 1s 20ms/step - loss: 0.1234 - accuracy: 0.9634 - val_loss: 0.1592 - val_accuracy: 0.9545\n",
      "Epoch 23/999\n",
      "66/66 [==============================] - 1s 20ms/step - loss: 0.1012 - accuracy: 0.9667 - val_loss: 0.1766 - val_accuracy: 0.9607\n",
      "Epoch 24/999\n",
      "66/66 [==============================] - 1s 20ms/step - loss: 0.1497 - accuracy: 0.9601 - val_loss: 0.1418 - val_accuracy: 0.9649\n",
      "Epoch 25/999\n",
      "66/66 [==============================] - 1s 20ms/step - loss: 0.1437 - accuracy: 0.9691 - val_loss: 0.1056 - val_accuracy: 0.9669\n",
      "Epoch 26/999\n",
      "66/66 [==============================] - 1s 21ms/step - loss: 0.1056 - accuracy: 0.9729 - val_loss: 0.1015 - val_accuracy: 0.9731\n",
      "Epoch 27/999\n",
      "66/66 [==============================] - 1s 20ms/step - loss: 0.1046 - accuracy: 0.9715 - val_loss: 0.1740 - val_accuracy: 0.9628\n",
      "Epoch 28/999\n",
      "66/66 [==============================] - 1s 20ms/step - loss: 0.0797 - accuracy: 0.9724 - val_loss: 0.0697 - val_accuracy: 0.9814\n",
      "Epoch 29/999\n",
      "66/66 [==============================] - 2s 24ms/step - loss: 0.0855 - accuracy: 0.9777 - val_loss: 0.1185 - val_accuracy: 0.9711\n",
      "Epoch 30/999\n",
      "66/66 [==============================] - 1s 21ms/step - loss: 0.0763 - accuracy: 0.9743 - val_loss: 0.1076 - val_accuracy: 0.9752\n",
      "Epoch 31/999\n",
      "66/66 [==============================] - 1s 21ms/step - loss: 0.1121 - accuracy: 0.9734 - val_loss: 0.1211 - val_accuracy: 0.9752\n",
      "Epoch 32/999\n",
      "66/66 [==============================] - 1s 20ms/step - loss: 0.0766 - accuracy: 0.9777 - val_loss: 0.1321 - val_accuracy: 0.9669\n",
      "Epoch 33/999\n",
      "66/66 [==============================] - 1s 20ms/step - loss: 0.0993 - accuracy: 0.9734 - val_loss: 0.0964 - val_accuracy: 0.9835\n",
      "Epoch 34/999\n",
      "66/66 [==============================] - 1s 20ms/step - loss: 0.1222 - accuracy: 0.9629 - val_loss: 0.1800 - val_accuracy: 0.9669\n",
      "Epoch 35/999\n",
      "66/66 [==============================] - 1s 22ms/step - loss: 0.1216 - accuracy: 0.9663 - val_loss: 0.1835 - val_accuracy: 0.9669\n",
      "Epoch 36/999\n",
      "66/66 [==============================] - 1s 21ms/step - loss: 0.0833 - accuracy: 0.9729 - val_loss: 0.1161 - val_accuracy: 0.9731\n",
      "Epoch 37/999\n",
      "66/66 [==============================] - 1s 21ms/step - loss: 0.0712 - accuracy: 0.9767 - val_loss: 0.1151 - val_accuracy: 0.9690\n",
      "Epoch 38/999\n",
      "66/66 [==============================] - 1s 20ms/step - loss: 0.1314 - accuracy: 0.9710 - val_loss: 0.1131 - val_accuracy: 0.9628\n",
      "Epoch 39/999\n",
      "66/66 [==============================] - 1s 21ms/step - loss: 0.1155 - accuracy: 0.9691 - val_loss: 0.2410 - val_accuracy: 0.9360\n",
      "Epoch 40/999\n",
      "66/66 [==============================] - 1s 22ms/step - loss: 0.1146 - accuracy: 0.9686 - val_loss: 0.1416 - val_accuracy: 0.9711\n",
      "Epoch 41/999\n",
      "66/66 [==============================] - 1s 20ms/step - loss: 0.1097 - accuracy: 0.9691 - val_loss: 0.0972 - val_accuracy: 0.9855\n",
      "Epoch 42/999\n",
      "66/66 [==============================] - 1s 21ms/step - loss: 0.0766 - accuracy: 0.9772 - val_loss: 0.1424 - val_accuracy: 0.9690\n",
      "Epoch 43/999\n",
      "66/66 [==============================] - 1s 22ms/step - loss: 0.0904 - accuracy: 0.9748 - val_loss: 0.1269 - val_accuracy: 0.9731\n"
     ]
    }
   ],
   "source": [
    "history = model.fit(\n",
    "        train_generator,\n",
    "        epochs=999,\n",
    "        validation_data=val_generator,\n",
    "        callbacks=[callback1])"
   ]
  },
  {
   "cell_type": "code",
   "execution_count": 7,
   "id": "0c3ed4e1-aee0-4935-9522-3c1b99686b6d",
   "metadata": {},
   "outputs": [],
   "source": [
    "model.save('./models/cnn_model_9814_with_detect.h5')"
   ]
  },
  {
   "cell_type": "code",
   "execution_count": 8,
   "id": "9d6294cb-444f-4bba-90fc-b9f572b1aa25",
   "metadata": {},
   "outputs": [
    {
     "data": {
      "image/png": "[encoded data removed]",
      "text/plain": [
       "<Figure size 640x480 with 1 Axes>"
      ]
     },
     "metadata": {},
     "output_type": "display_data"
    }
   ],
   "source": [
    "from matplotlib import pyplot as plt\n",
    "\n",
    "plt.plot(history.history['accuracy'])\n",
    "plt.plot(history.history['val_accuracy'])\n",
    "plt.title('model accuracy')\n",
    "plt.ylabel('accuracy')\n",
    "plt.xlabel('epoch')\n",
    "plt.legend(['train', 'val'], loc='upper left')\n",
    "plt.show()"
   ]
  },
  {
   "cell_type": "code",
   "execution_count": 9,
   "id": "4acf5aa0-5103-4a75-a04f-089808c3c56e",
   "metadata": {},
   "outputs": [
    {
     "data": {
      "image/png": "[encoded data removed]",
      "text/plain": [
       "<Figure size 640x480 with 1 Axes>"
      ]
     },
     "metadata": {},
     "output_type": "display_data"
    }
   ],
   "source": [
    "plt.plot(history.history['loss'])\n",
    "plt.plot(history.history['val_loss'])\n",
    "plt.title('model loss')\n",
    "plt.ylabel('loss')\n",
    "plt.xlabel('epoch')\n",
    "plt.legend(['train', 'val'], loc='upper left')\n",
    "plt.show()"
   ]
  }
 ],
 "metadata": {
  "kernelspec": {
   "display_name": "Python 3 (ipykernel)",
   "language": "python",
   "name": "python3"
  },
  "language_info": {
   "codemirror_mode": {
    "name": "ipython",
    "version": 3
   },
   "file_extension": ".py",
   "mimetype": "text/x-python",
   "name": "python",
   "nbconvert_exporter": "python",
   "pygments_lexer": "ipython3",
   "version": "3.9.19"
  }
 },
 "nbformat": 4,
 "nbformat_minor": 5
}
